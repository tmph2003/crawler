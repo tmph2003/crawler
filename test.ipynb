{
 "cells": [
  {
   "cell_type": "code",
   "execution_count": null,
   "id": "53cce134",
   "metadata": {},
   "outputs": [],
   "source": [
    "import random\n",
    "import requests\n",
    "\n",
    "from config.config import config\n",
    "from requests.adapters import HTTPAdapter, Retry\n",
    "from bs4 import BeautifulSoup\n",
    "\n",
    "\n",
    "BASE_URL = \"https://masothue.com/\"\n",
    "MAX_WORKERS = 10\n",
    "MAX_RETRY_SECONDS = 180\n",
    "\n",
    "\n",
    "def fetch_html(url: str, session_index = 0, timeout=(10, 20)) -> str:    \n",
    "    s = session_pool[session_index] or random.choice(session_pool)\n",
    "    resp = s.get(url, timeout=timeout)\n",
    "    resp.raise_for_status()\n",
    "    return resp.text\n",
    "\n",
    "def get_links_province(session_index = 0):\n",
    "    html = fetch_html(url=BASE_URL, session_index=session_index)\n",
    "    soup = BeautifulSoup(html, \"html.parser\")\n",
    "    links = [\"https://masothue.com\" + a.get(\"href\") for a in soup.select(\"#sidebar > aside.widget.widget_categories.container > ul > li > a\")]\n",
    "    return links\n",
    "\n",
    "def get_links_district(links_province: str, session_index = 0):\n",
    "    link_list = []\n",
    "    for link_province in links_province:\n",
    "        html = fetch_html(url=link_province, session_index=session_index)\n",
    "        soup = BeautifulSoup(html, \"html.parser\")\n",
    "        links = [\"https://masothue.com\" + a.get(\"href\") for a in soup.select(\"#sidebar > aside.widget.widget_categories.container > ul > li > a\")]\n",
    "        link_list.extend(links)\n",
    "    return link_list\n",
    "\n",
    "def get_links_ward(links_district: str):\n",
    "    link_list = []\n",
    "    for link_district in links_district:\n",
    "        session_index = random.choice(range(5))\n",
    "        html = fetch_html(url=link_district, session_index=session_index)\n",
    "        soup = BeautifulSoup(html, \"html.parser\")\n",
    "        links = [\"https://masothue.com\" + a.get(\"href\") for a in soup.select(\"#sidebar > aside.widget.widget_categories.container > ul > li > a\")]\n",
    "        link_list.extend(links)\n",
    "    return link_list\n",
    "\n",
    "session_pool = [make_session() for _ in range(5)]\n",
    "links_province = get_links_province()\n",
    "# links_district = get_links_district(links_province=links_province)"
   ]
  },
  {
   "cell_type": "code",
   "execution_count": 2,
   "id": "57b40a0c",
   "metadata": {},
   "outputs": [
    {
     "data": {
      "text/plain": [
       "['https://masothue.com/tra-cuu-ma-so-thue-theo-tinh/an-giang-93',\n",
       " 'https://masothue.com/tra-cuu-ma-so-thue-theo-tinh/ba-ria-vung-tau-32',\n",
       " 'https://masothue.com/tra-cuu-ma-so-thue-theo-tinh/bac-giang-72',\n",
       " 'https://masothue.com/tra-cuu-ma-so-thue-theo-tinh/bac-kan-1127',\n",
       " 'https://masothue.com/tra-cuu-ma-so-thue-theo-tinh/bac-lieu-197',\n",
       " 'https://masothue.com/tra-cuu-ma-so-thue-theo-tinh/bac-ninh-170',\n",
       " 'https://masothue.com/tra-cuu-ma-so-thue-theo-tinh/ben-tre-185',\n",
       " 'https://masothue.com/tra-cuu-ma-so-thue-theo-tinh/binh-dinh-152',\n",
       " 'https://masothue.com/tra-cuu-ma-so-thue-theo-tinh/binh-duong-17',\n",
       " 'https://masothue.com/tra-cuu-ma-so-thue-theo-tinh/binh-phuoc-1',\n",
       " 'https://masothue.com/tra-cuu-ma-so-thue-theo-tinh/binh-thuan-20',\n",
       " 'https://masothue.com/tra-cuu-ma-so-thue-theo-tinh/ca-mau-108',\n",
       " 'https://masothue.com/tra-cuu-ma-so-thue-theo-tinh/can-tho-96',\n",
       " 'https://masothue.com/tra-cuu-ma-so-thue-theo-tinh/cao-bang-1612',\n",
       " 'https://masothue.com/tra-cuu-ma-so-thue-theo-tinh/da-nang-35',\n",
       " 'https://masothue.com/tra-cuu-ma-so-thue-theo-tinh/dak-lak-214',\n",
       " 'https://masothue.com/tra-cuu-ma-so-thue-theo-tinh/dak-nong-245',\n",
       " 'https://masothue.com/tra-cuu-ma-so-thue-theo-tinh/dien-bien-1007',\n",
       " 'https://masothue.com/tra-cuu-ma-so-thue-theo-tinh/dong-nai-57',\n",
       " 'https://masothue.com/tra-cuu-ma-so-thue-theo-tinh/dong-thap-63',\n",
       " 'https://masothue.com/tra-cuu-ma-so-thue-theo-tinh/gia-lai-563',\n",
       " 'https://masothue.com/tra-cuu-ma-so-thue-theo-tinh/ha-giang-529',\n",
       " 'https://masothue.com/tra-cuu-ma-so-thue-theo-tinh/ha-nam-162',\n",
       " 'https://masothue.com/tra-cuu-ma-so-thue-theo-tinh/ha-noi-7',\n",
       " 'https://masothue.com/tra-cuu-ma-so-thue-theo-tinh/ha-tinh-342',\n",
       " 'https://masothue.com/tra-cuu-ma-so-thue-theo-tinh/hai-duong-147',\n",
       " 'https://masothue.com/tra-cuu-ma-so-thue-theo-tinh/hai-phong-99',\n",
       " 'https://masothue.com/tra-cuu-ma-so-thue-theo-tinh/hau-giang-190',\n",
       " 'https://masothue.com/tra-cuu-ma-so-thue-theo-tinh/ho-chi-minh-23',\n",
       " 'https://masothue.com/tra-cuu-ma-so-thue-theo-tinh/hoa-binh-786',\n",
       " 'https://masothue.com/tra-cuu-ma-so-thue-theo-tinh/hue-16354',\n",
       " 'https://masothue.com/tra-cuu-ma-so-thue-theo-tinh/hung-yen-123',\n",
       " 'https://masothue.com/tra-cuu-ma-so-thue-theo-tinh/khanh-hoa-26',\n",
       " 'https://masothue.com/tra-cuu-ma-so-thue-theo-tinh/kien-giang-80',\n",
       " 'https://masothue.com/tra-cuu-ma-so-thue-theo-tinh/kon-tum-956',\n",
       " 'https://masothue.com/tra-cuu-ma-so-thue-theo-tinh/lai-chau-2501',\n",
       " 'https://masothue.com/tra-cuu-ma-so-thue-theo-tinh/lam-dong-10',\n",
       " 'https://masothue.com/tra-cuu-ma-so-thue-theo-tinh/lang-son-984',\n",
       " 'https://masothue.com/tra-cuu-ma-so-thue-theo-tinh/lao-cai-320',\n",
       " 'https://masothue.com/tra-cuu-ma-so-thue-theo-tinh/long-an-29',\n",
       " 'https://masothue.com/tra-cuu-ma-so-thue-theo-tinh/nam-dinh-137',\n",
       " 'https://masothue.com/tra-cuu-ma-so-thue-theo-tinh/nghe-an-144',\n",
       " 'https://masothue.com/tra-cuu-ma-so-thue-theo-tinh/ninh-binh-75',\n",
       " 'https://masothue.com/tra-cuu-ma-so-thue-theo-tinh/ninh-thuan-11',\n",
       " 'https://masothue.com/tra-cuu-ma-so-thue-theo-tinh/phu-tho-134',\n",
       " 'https://masothue.com/tra-cuu-ma-so-thue-theo-tinh/phu-yen-14',\n",
       " 'https://masothue.com/tra-cuu-ma-so-thue-theo-tinh/quang-binh-60',\n",
       " 'https://masothue.com/tra-cuu-ma-so-thue-theo-tinh/quang-nam-49',\n",
       " 'https://masothue.com/tra-cuu-ma-so-thue-theo-tinh/quang-ngai-301',\n",
       " 'https://masothue.com/tra-cuu-ma-so-thue-theo-tinh/quang-ninh-142',\n",
       " 'https://masothue.com/tra-cuu-ma-so-thue-theo-tinh/quang-tri-69',\n",
       " 'https://masothue.com/tra-cuu-ma-so-thue-theo-tinh/soc-trang-949',\n",
       " 'https://masothue.com/tra-cuu-ma-so-thue-theo-tinh/son-la-316',\n",
       " 'https://masothue.com/tra-cuu-ma-so-thue-theo-tinh/tay-ninh-90',\n",
       " 'https://masothue.com/tra-cuu-ma-so-thue-theo-tinh/thai-binh-128',\n",
       " 'https://masothue.com/tra-cuu-ma-so-thue-theo-tinh/thai-nguyen-131',\n",
       " 'https://masothue.com/tra-cuu-ma-so-thue-theo-tinh/thanh-hoa-4',\n",
       " 'https://masothue.com/tra-cuu-ma-so-thue-theo-tinh/thua-thien-hue-66',\n",
       " 'https://masothue.com/tra-cuu-ma-so-thue-theo-tinh/tien-giang-177',\n",
       " 'https://masothue.com/tra-cuu-ma-so-thue-theo-tinh/tra-vinh-41',\n",
       " 'https://masothue.com/tra-cuu-ma-so-thue-theo-tinh/tuyen-quang-1284',\n",
       " 'https://masothue.com/tra-cuu-ma-so-thue-theo-tinh/vinh-long-193',\n",
       " 'https://masothue.com/tra-cuu-ma-so-thue-theo-tinh/vinh-phuc-420',\n",
       " 'https://masothue.com/tra-cuu-ma-so-thue-theo-tinh/yen-bai-724']"
      ]
     },
     "execution_count": 2,
     "metadata": {},
     "output_type": "execute_result"
    }
   ],
   "source": [
    "links_province"
   ]
  },
  {
   "cell_type": "code",
   "execution_count": 10,
   "id": "11f8db5c",
   "metadata": {},
   "outputs": [
    {
     "ename": "HTTPError",
     "evalue": "403 Client Error: Forbidden for url: https://masothue.com/tra-cuu-ma-so-thue-theo-tinh/xa-tam-my-18427",
     "output_type": "error",
     "traceback": [
      "\u001b[31m---------------------------------------------------------------------------\u001b[39m",
      "\u001b[31mHTTPError\u001b[39m                                 Traceback (most recent call last)",
      "\u001b[36mCell\u001b[39m\u001b[36m \u001b[39m\u001b[32mIn[10]\u001b[39m\u001b[32m, line 1\u001b[39m\n\u001b[32m----> \u001b[39m\u001b[32m1\u001b[39m \u001b[43mget_links_ward\u001b[49m\u001b[43m(\u001b[49m\u001b[43mlinks_district\u001b[49m\u001b[43m=\u001b[49m\u001b[43mlinks_district\u001b[49m\u001b[43m)\u001b[49m\n",
      "\u001b[36mCell\u001b[39m\u001b[36m \u001b[39m\u001b[32mIn[6]\u001b[39m\u001b[32m, line 73\u001b[39m, in \u001b[36mget_links_ward\u001b[39m\u001b[34m(links_district)\u001b[39m\n\u001b[32m     71\u001b[39m \u001b[38;5;28;01mfor\u001b[39;00m link_district \u001b[38;5;129;01min\u001b[39;00m links_district:\n\u001b[32m     72\u001b[39m     session_index = random.choice(\u001b[38;5;28mrange\u001b[39m(\u001b[32m5\u001b[39m))\n\u001b[32m---> \u001b[39m\u001b[32m73\u001b[39m     html = \u001b[43mfetch_html\u001b[49m\u001b[43m(\u001b[49m\u001b[43murl\u001b[49m\u001b[43m=\u001b[49m\u001b[43mlink_district\u001b[49m\u001b[43m,\u001b[49m\u001b[43m \u001b[49m\u001b[43msession_index\u001b[49m\u001b[43m=\u001b[49m\u001b[43msession_index\u001b[49m\u001b[43m)\u001b[49m\n\u001b[32m     74\u001b[39m     soup = BeautifulSoup(html, \u001b[33m\"\u001b[39m\u001b[33mhtml.parser\u001b[39m\u001b[33m\"\u001b[39m)\n\u001b[32m     75\u001b[39m     links = [\u001b[33m\"\u001b[39m\u001b[33mhttps://masothue.com\u001b[39m\u001b[33m\"\u001b[39m + a.get(\u001b[33m\"\u001b[39m\u001b[33mhref\u001b[39m\u001b[33m\"\u001b[39m) \u001b[38;5;28;01mfor\u001b[39;00m a \u001b[38;5;129;01min\u001b[39;00m soup.select(\u001b[33m\"\u001b[39m\u001b[33m#sidebar > aside.widget.widget_categories.container > ul > li > a\u001b[39m\u001b[33m\"\u001b[39m)]\n",
      "\u001b[36mCell\u001b[39m\u001b[36m \u001b[39m\u001b[32mIn[6]\u001b[39m\u001b[32m, line 51\u001b[39m, in \u001b[36mfetch_html\u001b[39m\u001b[34m(url, session_index, timeout)\u001b[39m\n\u001b[32m     49\u001b[39m s = session_pool[session_index] \u001b[38;5;129;01mor\u001b[39;00m random.choice(session_pool)\n\u001b[32m     50\u001b[39m resp = s.get(url, timeout=timeout)\n\u001b[32m---> \u001b[39m\u001b[32m51\u001b[39m \u001b[43mresp\u001b[49m\u001b[43m.\u001b[49m\u001b[43mraise_for_status\u001b[49m\u001b[43m(\u001b[49m\u001b[43m)\u001b[49m\n\u001b[32m     52\u001b[39m \u001b[38;5;28;01mreturn\u001b[39;00m resp.text\n",
      "\u001b[36mFile \u001b[39m\u001b[32m~/3tit/crawler-website-data-1/venv/lib/python3.12/site-packages/requests/models.py:1026\u001b[39m, in \u001b[36mResponse.raise_for_status\u001b[39m\u001b[34m(self)\u001b[39m\n\u001b[32m   1021\u001b[39m     http_error_msg = (\n\u001b[32m   1022\u001b[39m         \u001b[33mf\u001b[39m\u001b[33m\"\u001b[39m\u001b[38;5;132;01m{\u001b[39;00m\u001b[38;5;28mself\u001b[39m.status_code\u001b[38;5;132;01m}\u001b[39;00m\u001b[33m Server Error: \u001b[39m\u001b[38;5;132;01m{\u001b[39;00mreason\u001b[38;5;132;01m}\u001b[39;00m\u001b[33m for url: \u001b[39m\u001b[38;5;132;01m{\u001b[39;00m\u001b[38;5;28mself\u001b[39m.url\u001b[38;5;132;01m}\u001b[39;00m\u001b[33m\"\u001b[39m\n\u001b[32m   1023\u001b[39m     )\n\u001b[32m   1025\u001b[39m \u001b[38;5;28;01mif\u001b[39;00m http_error_msg:\n\u001b[32m-> \u001b[39m\u001b[32m1026\u001b[39m     \u001b[38;5;28;01mraise\u001b[39;00m HTTPError(http_error_msg, response=\u001b[38;5;28mself\u001b[39m)\n",
      "\u001b[31mHTTPError\u001b[39m: 403 Client Error: Forbidden for url: https://masothue.com/tra-cuu-ma-so-thue-theo-tinh/xa-tam-my-18427"
     ]
    }
   ],
   "source": [
    "get_links_ward(links_district=links_district)"
   ]
  },
  {
   "cell_type": "code",
   "execution_count": null,
   "id": "285c6a4a",
   "metadata": {},
   "outputs": [
    {
     "name": "stdout",
     "output_type": "stream",
     "text": [
      "['https://masothue.com/tra-cuu-ma-so-thue-theo-tinh/dac-khu-kien-hai-19323', 'https://masothue.com/tra-cuu-ma-so-thue-theo-tinh/dac-khu-phu-quoc-16844', 'https://masothue.com/tra-cuu-ma-so-thue-theo-tinh/huyen-an-phu-577', 'https://masothue.com/tra-cuu-ma-so-thue-theo-tinh/huyen-chau-phu-1406', 'https://masothue.com/tra-cuu-ma-so-thue-theo-tinh/huyen-chau-thanh-496', 'https://masothue.com/tra-cuu-ma-so-thue-theo-tinh/huyen-cho-moi-666', 'https://masothue.com/tra-cuu-ma-so-thue-theo-tinh/huyen-phu-tan-989', 'https://masothue.com/tra-cuu-ma-so-thue-theo-tinh/huyen-thoai-son-621', 'https://masothue.com/tra-cuu-ma-so-thue-theo-tinh/huyen-tinh-bien-686', 'https://masothue.com/tra-cuu-ma-so-thue-theo-tinh/huyen-tri-ton-592', 'https://masothue.com/tra-cuu-ma-so-thue-theo-tinh/phuong-binh-duc-18782', 'https://masothue.com/tra-cuu-ma-so-thue-theo-tinh/phuong-chau-doc-18556', 'https://masothue.com/tra-cuu-ma-so-thue-theo-tinh/phuong-ha-tien-17099', 'https://masothue.com/tra-cuu-ma-so-thue-theo-tinh/phuong-long-phu-19343', 'https://masothue.com/tra-cuu-ma-so-thue-theo-tinh/phuong-long-xuyen-16929', 'https://masothue.com/tra-cuu-ma-so-thue-theo-tinh/phuong-my-thoi-17023', 'https://masothue.com/tra-cuu-ma-so-thue-theo-tinh/phuong-rach-gia-16998', 'https://masothue.com/tra-cuu-ma-so-thue-theo-tinh/phuong-tan-chau-18553', 'https://masothue.com/tra-cuu-ma-so-thue-theo-tinh/phuong-thoi-son-17274', 'https://masothue.com/tra-cuu-ma-so-thue-theo-tinh/phuong-tinh-bien-18156', 'https://masothue.com/tra-cuu-ma-so-thue-theo-tinh/phuong-to-chau-17091', 'https://masothue.com/tra-cuu-ma-so-thue-theo-tinh/phuong-vinh-te-18794', 'https://masothue.com/tra-cuu-ma-so-thue-theo-tinh/phuong-vinh-thong-18340', 'https://masothue.com/tra-cuu-ma-so-thue-theo-tinh/thanh-pho-chau-doc-518', 'https://masothue.com/tra-cuu-ma-so-thue-theo-tinh/thanh-pho-long-xuyen-94', 'https://masothue.com/tra-cuu-ma-so-thue-theo-tinh/thi-xa-tan-chau-508', 'https://masothue.com/tra-cuu-ma-so-thue-theo-tinh/thi-xa-tinh-bien-15583', 'https://masothue.com/tra-cuu-ma-so-thue-theo-tinh/xa-an-bien-17468', 'https://masothue.com/tra-cuu-ma-so-thue-theo-tinh/xa-an-chau-17263', 'https://masothue.com/tra-cuu-ma-so-thue-theo-tinh/xa-an-cu-18958', 'https://masothue.com/tra-cuu-ma-so-thue-theo-tinh/xa-an-minh-17660', 'https://masothue.com/tra-cuu-ma-so-thue-theo-tinh/xa-an-phu-18144', 'https://masothue.com/tra-cuu-ma-so-thue-theo-tinh/xa-ba-chuc-18128', 'https://masothue.com/tra-cuu-ma-so-thue-theo-tinh/xa-binh-an-17094', 'https://masothue.com/tra-cuu-ma-so-thue-theo-tinh/xa-binh-giang-19298', 'https://masothue.com/tra-cuu-ma-so-thue-theo-tinh/xa-binh-hoa-18453', 'https://masothue.com/tra-cuu-ma-so-thue-theo-tinh/xa-binh-my-18836', 'https://masothue.com/tra-cuu-ma-so-thue-theo-tinh/xa-binh-son-18054', 'https://masothue.com/tra-cuu-ma-so-thue-theo-tinh/xa-binh-thanh-dong-17820', 'https://masothue.com/tra-cuu-ma-so-thue-theo-tinh/xa-can-dang-19067', 'https://masothue.com/tra-cuu-ma-so-thue-theo-tinh/xa-chau-phong-18984', 'https://masothue.com/tra-cuu-ma-so-thue-theo-tinh/xa-chau-phu-19092', 'https://masothue.com/tra-cuu-ma-so-thue-theo-tinh/xa-chau-thanh-17803', 'https://masothue.com/tra-cuu-ma-so-thue-theo-tinh/xa-cho-moi-17882', 'https://masothue.com/tra-cuu-ma-so-thue-theo-tinh/xa-co-to-17814', 'https://masothue.com/tra-cuu-ma-so-thue-theo-tinh/xa-cu-lao-gieng-19030', 'https://masothue.com/tra-cuu-ma-so-thue-theo-tinh/xa-dinh-hoa-17541', 'https://masothue.com/tra-cuu-ma-so-thue-theo-tinh/xa-dinh-my-18129', 'https://masothue.com/tra-cuu-ma-so-thue-theo-tinh/xa-dong-hoa-18215', 'https://masothue.com/tra-cuu-ma-so-thue-theo-tinh/xa-dong-hung-19288', 'https://masothue.com/tra-cuu-ma-so-thue-theo-tinh/xa-dong-thai-17510', 'https://masothue.com/tra-cuu-ma-so-thue-theo-tinh/xa-giang-thanh-18760', 'https://masothue.com/tra-cuu-ma-so-thue-theo-tinh/xa-giong-rieng-17093', 'https://masothue.com/tra-cuu-ma-so-thue-theo-tinh/xa-go-quao-18622', 'https://masothue.com/tra-cuu-ma-so-thue-theo-tinh/xa-hoa-dien-17167', 'https://masothue.com/tra-cuu-ma-so-thue-theo-tinh/xa-hoa-hung-18240', 'https://masothue.com/tra-cuu-ma-so-thue-theo-tinh/xa-hoa-lac-18818', 'https://masothue.com/tra-cuu-ma-so-thue-theo-tinh/xa-hoa-thuan-19155', 'https://masothue.com/tra-cuu-ma-so-thue-theo-tinh/xa-hoi-an-18831', 'https://masothue.com/tra-cuu-ma-so-thue-theo-tinh/xa-hon-dat-18049', 'https://masothue.com/tra-cuu-ma-so-thue-theo-tinh/xa-khanh-binh-18166', 'https://masothue.com/tra-cuu-ma-so-thue-theo-tinh/xa-kien-luong-17141', 'https://masothue.com/tra-cuu-ma-so-thue-theo-tinh/xa-long-dien-18823', 'https://masothue.com/tra-cuu-ma-so-thue-theo-tinh/xa-my-duc-19142', 'https://masothue.com/tra-cuu-ma-so-thue-theo-tinh/xa-my-thuan-18535', 'https://masothue.com/tra-cuu-ma-so-thue-theo-tinh/xa-ngoc-chuc-18655', 'https://masothue.com/tra-cuu-ma-so-thue-theo-tinh/xa-nhon-hoi-19352', 'https://masothue.com/tra-cuu-ma-so-thue-theo-tinh/xa-nhon-my-18796', 'https://masothue.com/tra-cuu-ma-so-thue-theo-tinh/xa-o-lam-18130', 'https://masothue.com/tra-cuu-ma-so-thue-theo-tinh/xa-oc-eo-17256', 'https://masothue.com/tra-cuu-ma-so-thue-theo-tinh/xa-phu-an-18157', 'https://masothue.com/tra-cuu-ma-so-thue-theo-tinh/xa-phu-hoa-19096', 'https://masothue.com/tra-cuu-ma-so-thue-theo-tinh/xa-phu-huu-18620', 'https://masothue.com/tra-cuu-ma-so-thue-theo-tinh/xa-phu-lam-17238', 'https://masothue.com/tra-cuu-ma-so-thue-theo-tinh/xa-phu-tan-17816', 'https://masothue.com/tra-cuu-ma-so-thue-theo-tinh/xa-son-kien-18715', 'https://masothue.com/tra-cuu-ma-so-thue-theo-tinh/xa-tan-an-19068', 'https://masothue.com/tra-cuu-ma-so-thue-theo-tinh/xa-tan-hiep-17915', 'https://masothue.com/tra-cuu-ma-so-thue-theo-tinh/xa-tan-hoi-18762', 'https://masothue.com/tra-cuu-ma-so-thue-theo-tinh/xa-tan-thanh-18475', 'https://masothue.com/tra-cuu-ma-so-thue-theo-tinh/xa-tay-yen-18815', 'https://masothue.com/tra-cuu-ma-so-thue-theo-tinh/xa-thanh-dong-18504', 'https://masothue.com/tra-cuu-ma-so-thue-theo-tinh/xa-thanh-hung-19044', 'https://masothue.com/tra-cuu-ma-so-thue-theo-tinh/xa-thanh-loc-17153', 'https://masothue.com/tra-cuu-ma-so-thue-theo-tinh/xa-thanh-my-tay-18942', 'https://masothue.com/tra-cuu-ma-so-thue-theo-tinh/xa-thoai-son-17818', 'https://masothue.com/tra-cuu-ma-so-thue-theo-tinh/xa-tri-ton-18819', 'https://masothue.com/tra-cuu-ma-so-thue-theo-tinh/xa-u-minh-thuong-18445', 'https://masothue.com/tra-cuu-ma-so-thue-theo-tinh/xa-van-khanh-19349', 'https://masothue.com/tra-cuu-ma-so-thue-theo-tinh/xa-vinh-an-18957', 'https://masothue.com/tra-cuu-ma-so-thue-theo-tinh/xa-vinh-binh-19174', 'https://masothue.com/tra-cuu-ma-so-thue-theo-tinh/xa-vinh-dieu-18602', 'https://masothue.com/tra-cuu-ma-so-thue-theo-tinh/xa-vinh-gia-17823', 'https://masothue.com/tra-cuu-ma-so-thue-theo-tinh/xa-vinh-hanh-19065', 'https://masothue.com/tra-cuu-ma-so-thue-theo-tinh/xa-vinh-hau-18975', 'https://masothue.com/tra-cuu-ma-so-thue-theo-tinh/xa-vinh-hoa-17096', 'https://masothue.com/tra-cuu-ma-so-thue-theo-tinh/xa-vinh-hoa-hung-19158', 'https://masothue.com/tra-cuu-ma-so-thue-theo-tinh/xa-vinh-phong-17672', 'https://masothue.com/tra-cuu-ma-so-thue-theo-tinh/xa-vinh-thanh-trung-17605', 'https://masothue.com/tra-cuu-ma-so-thue-theo-tinh/xa-vinh-trach-17815', 'https://masothue.com/tra-cuu-ma-so-thue-theo-tinh/xa-vinh-tuy-18030', 'https://masothue.com/tra-cuu-ma-so-thue-theo-tinh/xa-vinh-xuong-18123']\n"
     ]
    },
    {
     "data": {
      "text/plain": [
       "[]"
      ]
     },
     "execution_count": 36,
     "metadata": {},
     "output_type": "execute_result"
    }
   ],
   "source": []
  },
  {
   "cell_type": "code",
   "execution_count": null,
   "id": "15e53afc",
   "metadata": {},
   "outputs": [],
   "source": [
    "a = (10, 20)"
   ]
  },
  {
   "cell_type": "code",
   "execution_count": null,
   "id": "027acdc6",
   "metadata": {},
   "outputs": [],
   "source": [
    "type(a)"
   ]
  },
  {
   "cell_type": "code",
   "execution_count": null,
   "id": "18e3edfa",
   "metadata": {},
   "outputs": [],
   "source": []
  }
 ],
 "metadata": {
  "kernelspec": {
   "display_name": "venv",
   "language": "python",
   "name": "python3"
  },
  "language_info": {
   "codemirror_mode": {
    "name": "ipython",
    "version": 3
   },
   "file_extension": ".py",
   "mimetype": "text/x-python",
   "name": "python",
   "nbconvert_exporter": "python",
   "pygments_lexer": "ipython3",
   "version": "3.12.3"
  }
 },
 "nbformat": 4,
 "nbformat_minor": 5
}
